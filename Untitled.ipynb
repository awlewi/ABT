{
 "cells": [
  {
   "cell_type": "code",
   "execution_count": 1,
   "metadata": {
    "collapsed": true
   },
   "outputs": [],
   "source": [
    "import nltk\n",
    "import numpy as np\n",
    "from sklearn.preprocessing import normalize\n",
    "from nltk.corpus import genesis as gen\n",
    "from nltk import pos_tag\n",
    "np.random.seed(1000)"
   ]
  },
  {
   "cell_type": "code",
   "execution_count": 2,
   "metadata": {
    "collapsed": true
   },
   "outputs": [],
   "source": [
    "word_corpus = {}\n",
    "word_corpus_rev = {}\n",
    "num = 0\n",
    "for word in (nltk.corpus.genesis.words()):\n",
    "    if word not in word_corpus:\n",
    "        word_corpus_rev[num] = word\n",
    "        word_corpus[word] = num\n",
    "        num += 1\n",
    "        "
   ]
  },
  {
   "cell_type": "code",
   "execution_count": 3,
   "metadata": {
    "collapsed": true
   },
   "outputs": [],
   "source": [
    "states = ['CC','CD','DT','EX','FW','IN','JJ','JJR','JJS','LS','MD','NN','NNS','NNP','NNPS','PDT','POS','PRP','PRP','RB','RBR','RBS','RP','TO','UH',\"VB\",'VBD','VBG','VBN','VBP','VBZ','WDT','WP','WP','WRB']\n",
    "transition = normalize(np.random.random((len(states),len(states))), norm='l1')\n",
    "emission = normalize(np.random.random((len(word_corpus),len(states))), norm = 'l1')\n",
    "initial = normalize(np.random.random((len(states),1)), norm = 'l1')"
   ]
  },
  {
   "cell_type": "code",
   "execution_count": 5,
   "metadata": {},
   "outputs": [],
   "source": [
    "transitionc = {}\n",
    "for i,condition in enumerate(states):\n",
    "    dic = {}\n",
    "    for j,state in enumerate(states):\n",
    "        dic[state] = transition[i][j]\n",
    "    transitionc[condition] = ( nltk.probability.DictionaryProbDist(dic))\n",
    "transitionc = nltk.probability.DictionaryConditionalProbDist(transitionc);\n",
    "\n",
    "emissionc = {}\n",
    "for i,condition in enumerate(list(word_corpus)):\n",
    "    dic = {}\n",
    "    for j,state in enumerate(states):\n",
    "        dic[state] = emission[i][j]\n",
    "    emissionc[condition] = ( nltk.probability.DictionaryProbDist(dic))\n",
    "emissionc = nltk.probability.DictionaryConditionalProbDist(transitionc);\n",
    "\n",
    "initialc = {}\n",
    "for i,condition in enumerate(states):\n",
    "    initialc[condition] = initial[i]\n",
    "initialc = nltk.probability.DictionaryProbDist(initialc)"
   ]
  },
  {
   "cell_type": "code",
   "execution_count": 7,
   "metadata": {},
   "outputs": [],
   "source": [
    "model = nltk.tag.hmm.HiddenMarkovModelTagger(list(word_corpus),states,transitionc,emissionc,initialc)"
   ]
  },
  {
   "cell_type": "code",
   "execution_count": 20,
   "metadata": {},
   "outputs": [],
   "source": [
    "# a = nltk.pos_tag(nltk.corpus.genesis.sents())\n",
    "a = []\n",
    "for sentence in gen.sents():\n",
    "    sen = []\n",
    "    for word in sentence:\n",
    "        if word.isalpha():\n",
    "            sen.append((word,pos_tag([word])[0][1]))\n",
    "    a.append(sen)"
   ]
  },
  {
   "cell_type": "code",
   "execution_count": 19,
   "metadata": {},
   "outputs": [
    {
     "data": {
      "text/plain": [
       "[('In', 'IN'),\n",
       " ('the', 'DT'),\n",
       " ('beginning', 'VBG'),\n",
       " ('God', 'NNP'),\n",
       " ('created', 'VBN'),\n",
       " ('the', 'DT'),\n",
       " ('heaven', 'NN'),\n",
       " ('and', 'CC'),\n",
       " ('the', 'DT'),\n",
       " ('earth', 'NN'),\n",
       " ('.', '.')]"
      ]
     },
     "execution_count": 19,
     "metadata": {},
     "output_type": "execute_result"
    }
   ],
   "source": [
    "a[0]"
   ]
  },
  {
   "cell_type": "code",
   "execution_count": null,
   "metadata": {},
   "outputs": [],
   "source": [
    "pos_tag(['what'])[0][1]"
   ]
  },
  {
   "cell_type": "code",
   "execution_count": 21,
   "metadata": {},
   "outputs": [
    {
     "name": "stdout",
     "output_type": "stream",
     "text": [
      "iteration 0 logprob -2.6039500000000094e+305\n",
      "iteration 1 logprob -8.319288588440341e+290\n",
      "iteration 2 logprob -2914744.9914201223\n",
      "iteration 3 logprob -2908102.375197098\n",
      "iteration 4 logprob -2908102.3751970995\n"
     ]
    },
    {
     "data": {
      "text/plain": [
       "<HiddenMarkovModelTagger 33 states and 25841 output symbols>"
      ]
     },
     "execution_count": 21,
     "metadata": {},
     "output_type": "execute_result"
    }
   ],
   "source": [
    "trainer = nltk.tag.hmm.HiddenMarkovModelTrainer()\n",
    "trainer.train_unsupervised(unlabeled_sequences=a , model = model)"
   ]
  },
  {
   "cell_type": "code",
   "execution_count": null,
   "metadata": {
    "collapsed": true
   },
   "outputs": [],
   "source": []
  }
 ],
 "metadata": {
  "kernelspec": {
   "display_name": "Python 3",
   "language": "python",
   "name": "python3"
  },
  "language_info": {
   "codemirror_mode": {
    "name": "ipython",
    "version": 3
   },
   "file_extension": ".py",
   "mimetype": "text/x-python",
   "name": "python",
   "nbconvert_exporter": "python",
   "pygments_lexer": "ipython3",
   "version": "3.6.8"
  }
 },
 "nbformat": 4,
 "nbformat_minor": 2
}
