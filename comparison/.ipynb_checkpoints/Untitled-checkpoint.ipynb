{
 "cells": [
  {
   "cell_type": "code",
   "execution_count": 1,
   "metadata": {
    "collapsed": true
   },
   "outputs": [],
   "source": [
    "import nltk\n",
    "import numpy as np\n",
    "from sklearn.preprocessing import normalize\n",
    "from nltk.corpus import genesis as gen\n",
    "from nltk import pos_tag\n",
    "np.random.seed(10000)"
   ]
  },
  {
   "cell_type": "code",
   "execution_count": 2,
   "metadata": {},
   "outputs": [
    {
     "data": {
      "text/plain": [
       "25513"
      ]
     },
     "execution_count": 2,
     "metadata": {},
     "output_type": "execute_result"
    }
   ],
   "source": [
    "word_corpus = {}\n",
    "word_corpus_rev = {}\n",
    "num = 0\n",
    "for word in (nltk.corpus.genesis.words()):\n",
    "    if word not in word_corpus and word.isalpha():\n",
    "        word_corpus_rev[num] = word\n",
    "        word_corpus[word] = num\n",
    "        num += 1\n",
    "len(word_corpus_rev)"
   ]
  },
  {
   "cell_type": "code",
   "execution_count": 4,
   "metadata": {
    "collapsed": true
   },
   "outputs": [],
   "source": [
    "def generate_random(a):\n",
    "    index = np.random.permutation(len(a))[0:10]\n",
    "    a[index] = np.random.random(10)\n",
    "    return a"
   ]
  },
  {
   "cell_type": "code",
   "execution_count": 5,
   "metadata": {
    "collapsed": true
   },
   "outputs": [],
   "source": [
    "states = ['CC','CD','DT','EX','FW','IN','JJ','JJR','JJS','LS','MD','NN','NNS','NNP','NNPS','PDT','POS','PRP','PRP','RB','RBR','RBS','RP','TO','UH',\"VB\",'VBD','VBG','VBN','VBP','VBZ','WDT','WP','WP','WRB']\n",
    "transition = np.zeros((len(states),len(states)))\n",
    "emission = np.zeros((len(word_corpus),len(states)))\n",
    "initial = np.zeros((len(states),1))\n",
    "transition = normalize(np.apply_along_axis(generate_random, 0,transition), norm = 'l1')\n",
    "emission = normalize(np.apply_along_axis(generate_random, 1,emission), norm = 'l1')\n",
    "initial = normalize(np.apply_along_axis(generate_random, 0,initial), norm = 'l1')\n",
    "# transition = normalize(np.random.random((len(states),len(states))), norm='l1') * 100\n",
    "# emission = normalize(np.random.random((len(word_corpus),len(states))), norm = 'l1') * 100\n",
    "# initial = normalize(np.random.random((len(states),1)), norm = 'l1')"
   ]
  },
  {
   "cell_type": "code",
   "execution_count": 6,
   "metadata": {},
   "outputs": [
    {
     "name": "stdout",
     "output_type": "stream",
     "text": [
      "(35, 25513)\n"
     ]
    }
   ],
   "source": [
    "print(emission.T.shape)"
   ]
  },
  {
   "cell_type": "code",
   "execution_count": 7,
   "metadata": {
    "collapsed": true
   },
   "outputs": [],
   "source": [
    "transitionc = {}\n",
    "for i,condition in enumerate(states):\n",
    "    dic = {}\n",
    "    for j,state in enumerate(states):\n",
    "        dic[state] = transition[i][j]\n",
    "    transitionc[condition] = ( nltk.probability.DictionaryProbDist(dic))\n",
    "transitionc = nltk.probability.DictionaryConditionalProbDist(transitionc);\n",
    "\n",
    "emissionc = {}\n",
    "for i,condition in enumerate(list(word_corpus)):\n",
    "    dic = {}\n",
    "    for j,state in enumerate(states):\n",
    "        dic[state] = emission[i][j]\n",
    "    emissionc[condition] = ( nltk.probability.DictionaryProbDist(dic))\n",
    "emissionc = nltk.probability.DictionaryConditionalProbDist(transitionc);\n",
    "\n",
    "initialc = {}\n",
    "for i,condition in enumerate(states):\n",
    "    initialc[condition] = initial[i]\n",
    "initialc = nltk.probability.DictionaryProbDist(initialc)"
   ]
  },
  {
   "cell_type": "code",
   "execution_count": 8,
   "metadata": {
    "collapsed": true
   },
   "outputs": [],
   "source": [
    "model = nltk.tag.hmm.HiddenMarkovModelTagger(list(word_corpus),states,transitionc,emissionc,initialc)"
   ]
  },
  {
   "cell_type": "code",
   "execution_count": 9,
   "metadata": {
    "collapsed": true
   },
   "outputs": [],
   "source": [
    "# a = nltk.pos_tag(nltk.corpus.genesis.sents())\n",
    "obs_nltk = []\n",
    "obs_blake = []\n",
    "obs_vidur = []\n",
    "lens = []\n",
    "test = []\n",
    "for sentence in gen.sents():\n",
    "    sen = []\n",
    "    sent = []\n",
    "    for word in sentence:\n",
    "        if word.isalpha():\n",
    "#             test.append(word)\n",
    "            sen.append((word,pos_tag([word])[0][1]))\n",
    "            obs_blake.append(word_corpus[word])\n",
    "            sent.append(word_corpus[word])\n",
    "    lens.append(len(sen))\n",
    "    obs_nltk.append(sen)\n",
    "    obs_vidur.append(sent)"
   ]
  },
  {
   "cell_type": "code",
   "execution_count": null,
   "metadata": {},
   "outputs": [],
   "source": [
    "obs_nltk"
   ]
  },
  {
   "cell_type": "code",
   "execution_count": null,
   "metadata": {},
   "outputs": [],
   "source": [
    "print(len(set(test)),len(set(list(word_corpus))))\n",
    "print((set(test) - set(word_corpus)))"
   ]
  },
  {
   "cell_type": "code",
   "execution_count": 10,
   "metadata": {},
   "outputs": [
    {
     "name": "stdout",
     "output_type": "stream",
     "text": [
      "5440\n",
      "8132\n",
      "9135\n",
      "9148\n",
      "9688\n",
      "10489\n",
      "13442\n"
     ]
    }
   ],
   "source": [
    "import time\n",
    "index = []\n",
    "obs_vidur = np.array(obs_vidur)\n",
    "for i, item in enumerate(lens):\n",
    "    if item < 1:\n",
    "        print (i)\n",
    "        index.append(i)\n",
    "lens = np.delete(lens,index)\n",
    "obs_vidur = np.delete(obs_vidur,index)"
   ]
  },
  {
   "cell_type": "code",
   "execution_count": 11,
   "metadata": {
    "collapsed": true
   },
   "outputs": [],
   "source": [
    "a = []\n",
    "for sentence in gen.sents():\n",
    "    sen = []\n",
    "    for word in sentence:\n",
    "        if word.isalpha():\n",
    "            sen.append((word,pos_tag([word])[0][1]))\n",
    "    a.append(sen)"
   ]
  },
  {
   "cell_type": "code",
   "execution_count": null,
   "metadata": {
    "collapsed": true
   },
   "outputs": [],
   "source": [
    "trainer = nltk.tag.hmm.HiddenMarkovModelTrainer()\n",
    "start = time.clock()\n",
    "trainer.train_unsupervised(unlabeled_sequences=obs_nltk , model = model, max_iterations = 1)\n",
    "print (time.clock() - start)"
   ]
  },
  {
   "cell_type": "code",
   "execution_count": 12,
   "metadata": {},
   "outputs": [
    {
     "name": "stderr",
     "output_type": "stream",
     "text": [
      "/home/vidur/Desktop/ABT/comparison/HMM.py:183: RuntimeWarning: invalid value encountered in true_divide\n",
      "  num_a += na/prob\n",
      "/home/vidur/Desktop/ABT/comparison/HMM.py:184: RuntimeWarning: invalid value encountered in true_divide\n",
      "  num_b += nb/prob\n",
      "/home/vidur/Desktop/ABT/comparison/HMM.py:185: RuntimeWarning: invalid value encountered in true_divide\n",
      "  den_a += da/prob\n",
      "/home/vidur/Desktop/ABT/comparison/HMM.py:186: RuntimeWarning: invalid value encountered in true_divide\n",
      "  den_b += db/prob\n"
     ]
    },
    {
     "ename": "KeyboardInterrupt",
     "evalue": "",
     "output_type": "error",
     "traceback": [
      "\u001b[0;31m---------------------------------------------------------------------------\u001b[0m",
      "\u001b[0;31mKeyboardInterrupt\u001b[0m                         Traceback (most recent call last)",
      "\u001b[0;32m<ipython-input-12-312f304e3058>\u001b[0m in \u001b[0;36m<module>\u001b[0;34m()\u001b[0m\n\u001b[1;32m      6\u001b[0m \u001b[0mstart\u001b[0m \u001b[0;34m=\u001b[0m \u001b[0mtime\u001b[0m\u001b[0;34m.\u001b[0m\u001b[0mclock\u001b[0m\u001b[0;34m(\u001b[0m\u001b[0;34m)\u001b[0m\u001b[0;34m\u001b[0m\u001b[0;34m\u001b[0m\u001b[0m\n\u001b[1;32m      7\u001b[0m \u001b[0;32mfor\u001b[0m \u001b[0mi\u001b[0m \u001b[0;32min\u001b[0m \u001b[0mrange\u001b[0m\u001b[0;34m(\u001b[0m\u001b[0;36m2\u001b[0m\u001b[0;34m)\u001b[0m\u001b[0;34m:\u001b[0m\u001b[0;34m\u001b[0m\u001b[0;34m\u001b[0m\u001b[0m\n\u001b[0;32m----> 8\u001b[0;31m     \u001b[0mmodel2\u001b[0m\u001b[0;34m.\u001b[0m\u001b[0mfit\u001b[0m\u001b[0;34m(\u001b[0m\u001b[0mobs_vidur\u001b[0m\u001b[0;34m,\u001b[0m\u001b[0mlens\u001b[0m\u001b[0;34m)\u001b[0m\u001b[0;34m\u001b[0m\u001b[0;34m\u001b[0m\u001b[0m\n\u001b[0m\u001b[1;32m      9\u001b[0m \u001b[0mtime\u001b[0m\u001b[0;34m.\u001b[0m\u001b[0mclock\u001b[0m\u001b[0;34m(\u001b[0m\u001b[0;34m)\u001b[0m \u001b[0;34m-\u001b[0m \u001b[0mstart\u001b[0m\u001b[0;34m\u001b[0m\u001b[0;34m\u001b[0m\u001b[0m\n",
      "\u001b[0;32m~/Desktop/ABT/comparison/HMM.py\u001b[0m in \u001b[0;36mfit\u001b[0;34m(self, observations, lengths)\u001b[0m\n\u001b[1;32m    179\u001b[0m             \u001b[0mlength\u001b[0m \u001b[0;34m=\u001b[0m \u001b[0mlengths\u001b[0m\u001b[0;34m[\u001b[0m\u001b[0mi\u001b[0m\u001b[0;34m]\u001b[0m\u001b[0;34m\u001b[0m\u001b[0;34m\u001b[0m\u001b[0m\n\u001b[1;32m    180\u001b[0m             \u001b[0mprob\u001b[0m \u001b[0;34m=\u001b[0m \u001b[0mself\u001b[0m\u001b[0;34m.\u001b[0m\u001b[0mPOlambda\u001b[0m\u001b[0;34m(\u001b[0m\u001b[0mobservation\u001b[0m\u001b[0;34m)\u001b[0m\u001b[0;34m\u001b[0m\u001b[0;34m\u001b[0m\u001b[0m\n\u001b[0;32m--> 181\u001b[0;31m             \u001b[0mna\u001b[0m\u001b[0;34m,\u001b[0m\u001b[0mnb\u001b[0m\u001b[0;34m,\u001b[0m\u001b[0mda\u001b[0m\u001b[0;34m,\u001b[0m\u001b[0mdb\u001b[0m \u001b[0;34m=\u001b[0m \u001b[0mself\u001b[0m\u001b[0;34m.\u001b[0m\u001b[0mbaum_welch_step\u001b[0m\u001b[0;34m(\u001b[0m\u001b[0mobservation\u001b[0m\u001b[0;34m,\u001b[0m\u001b[0mlength\u001b[0m\u001b[0;34m)\u001b[0m\u001b[0;34m\u001b[0m\u001b[0;34m\u001b[0m\u001b[0m\n\u001b[0m\u001b[1;32m    182\u001b[0m             \u001b[0;31m# list.append(na[0,0])\u001b[0m\u001b[0;34m\u001b[0m\u001b[0;34m\u001b[0m\u001b[0;34m\u001b[0m\u001b[0m\n\u001b[1;32m    183\u001b[0m             \u001b[0mnum_a\u001b[0m \u001b[0;34m+=\u001b[0m \u001b[0mna\u001b[0m\u001b[0;34m/\u001b[0m\u001b[0mprob\u001b[0m\u001b[0;34m\u001b[0m\u001b[0;34m\u001b[0m\u001b[0m\n",
      "\u001b[0;32m~/Desktop/ABT/comparison/HMM.py\u001b[0m in \u001b[0;36mbaum_welch_step\u001b[0;34m(self, observation, length)\u001b[0m\n\u001b[1;32m    154\u001b[0m         \u001b[0mnum_a\u001b[0m \u001b[0;34m=\u001b[0m \u001b[0mnp\u001b[0m\u001b[0;34m.\u001b[0m\u001b[0mzeros\u001b[0m\u001b[0;34m(\u001b[0m\u001b[0;34m(\u001b[0m\u001b[0mself\u001b[0m\u001b[0;34m.\u001b[0m\u001b[0mNstate\u001b[0m\u001b[0;34m,\u001b[0m\u001b[0mself\u001b[0m\u001b[0;34m.\u001b[0m\u001b[0mNstate\u001b[0m\u001b[0;34m)\u001b[0m\u001b[0;34m)\u001b[0m\u001b[0;34m\u001b[0m\u001b[0;34m\u001b[0m\u001b[0m\n\u001b[1;32m    155\u001b[0m         \u001b[0mden_a\u001b[0m \u001b[0;34m=\u001b[0m \u001b[0mnp\u001b[0m\u001b[0;34m.\u001b[0m\u001b[0mzeros\u001b[0m\u001b[0;34m(\u001b[0m\u001b[0;34m(\u001b[0m\u001b[0mself\u001b[0m\u001b[0;34m.\u001b[0m\u001b[0mNstate\u001b[0m\u001b[0;34m,\u001b[0m\u001b[0;36m1\u001b[0m\u001b[0;34m)\u001b[0m\u001b[0;34m)\u001b[0m\u001b[0;34m\u001b[0m\u001b[0;34m\u001b[0m\u001b[0m\n\u001b[0;32m--> 156\u001b[0;31m         \u001b[0mnum_b\u001b[0m \u001b[0;34m=\u001b[0m \u001b[0mnp\u001b[0m\u001b[0;34m.\u001b[0m\u001b[0mzeros\u001b[0m\u001b[0;34m(\u001b[0m\u001b[0mself\u001b[0m\u001b[0;34m.\u001b[0m\u001b[0m_emission\u001b[0m\u001b[0;34m.\u001b[0m\u001b[0mshape\u001b[0m\u001b[0;34m)\u001b[0m\u001b[0;34m\u001b[0m\u001b[0;34m\u001b[0m\u001b[0m\n\u001b[0m\u001b[1;32m    157\u001b[0m         \u001b[0;31m# print(self._emission.shape)\u001b[0m\u001b[0;34m\u001b[0m\u001b[0;34m\u001b[0m\u001b[0;34m\u001b[0m\u001b[0m\n\u001b[1;32m    158\u001b[0m         \u001b[0mden_b\u001b[0m \u001b[0;34m=\u001b[0m \u001b[0mnp\u001b[0m\u001b[0;34m.\u001b[0m\u001b[0mzeros\u001b[0m\u001b[0;34m(\u001b[0m\u001b[0;34m(\u001b[0m\u001b[0mself\u001b[0m\u001b[0;34m.\u001b[0m\u001b[0mNstate\u001b[0m\u001b[0;34m,\u001b[0m\u001b[0;36m1\u001b[0m\u001b[0;34m)\u001b[0m\u001b[0;34m)\u001b[0m\u001b[0;34m\u001b[0m\u001b[0;34m\u001b[0m\u001b[0m\n",
      "\u001b[0;31mKeyboardInterrupt\u001b[0m: "
     ]
    }
   ],
   "source": [
    "%load_ext autoreload\n",
    "%autoreload 2\n",
    "from HMM import *\n",
    "model2 = hmm(len(states),25513)\n",
    "model2.custom(initial,transition,emission.T)\n",
    "start = time.clock()\n",
    "for i in range(2):\n",
    "    model2.fit(obs_vidur,lens)\n",
    "time.clock() - start"
   ]
  },
  {
   "cell_type": "code",
   "execution_count": 16,
   "metadata": {},
   "outputs": [
    {
     "data": {
      "text/plain": [
       "(35, 1)"
      ]
     },
     "execution_count": 16,
     "metadata": {},
     "output_type": "execute_result"
    }
   ],
   "source": [
    "np.array([1,0,0,0,0,0]).shape"
   ]
  }
 ],
 "metadata": {
  "kernelspec": {
   "display_name": "Python 3",
   "language": "python",
   "name": "python3"
  },
  "language_info": {
   "codemirror_mode": {
    "name": "ipython",
    "version": 3
   },
   "file_extension": ".py",
   "mimetype": "text/x-python",
   "name": "python",
   "nbconvert_exporter": "python",
   "pygments_lexer": "ipython3",
   "version": "3.6.8"
  }
 },
 "nbformat": 4,
 "nbformat_minor": 2
}
