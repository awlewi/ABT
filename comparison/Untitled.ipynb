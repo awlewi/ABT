{
 "cells": [
  {
   "cell_type": "code",
   "execution_count": 1,
   "metadata": {
    "collapsed": true
   },
   "outputs": [],
   "source": [
    "import nltk\n",
    "import numpy as np\n",
    "from sklearn.preprocessing import normalize\n",
    "from nltk.corpus import genesis as gen\n",
    "from nltk import pos_tag\n",
    "np.random.seed(10000)"
   ]
  },
  {
   "cell_type": "code",
   "execution_count": 2,
   "metadata": {},
   "outputs": [
    {
     "data": {
      "text/plain": [
       "25513"
      ]
     },
     "execution_count": 2,
     "metadata": {},
     "output_type": "execute_result"
    }
   ],
   "source": [
    "word_corpus = {}\n",
    "word_corpus_rev = {}\n",
    "num = 0\n",
    "for word in (nltk.corpus.genesis.words()):\n",
    "    if word not in word_corpus and word.isalpha():\n",
    "        word_corpus_rev[num] = word\n",
    "        word_corpus[word] = num\n",
    "        num += 1\n",
    "len(word_corpus_rev)"
   ]
  },
  {
   "cell_type": "code",
   "execution_count": 36,
   "metadata": {},
   "outputs": [
    {
     "data": {
      "text/plain": [
       "array([1., 1., 1., ..., 1., 1., 1.])"
      ]
     },
     "execution_count": 36,
     "metadata": {},
     "output_type": "execute_result"
    }
   ],
   "source": [
    "emission.sum(axis = 1)"
   ]
  },
  {
   "cell_type": "code",
   "execution_count": 3,
   "metadata": {
    "collapsed": true
   },
   "outputs": [],
   "source": [
    "def generate_random(a):\n",
    "    index = np.random.permutation(len(a))[0:10]\n",
    "    a[index] = np.random.random(10)\n",
    "    return a"
   ]
  },
  {
   "cell_type": "code",
   "execution_count": 35,
   "metadata": {
    "collapsed": true
   },
   "outputs": [],
   "source": [
    "states = ['CC','CD','DT','EX','FW','IN','JJ','JJR','JJS','LS','MD','NN','NNS','NNP','NNPS','PDT','POS','PRP','PRP','RB','RBR','RBS','RP','TO','UH',\"VB\",'VBD','VBG','VBN','VBP','VBZ','WDT','WP','WP','WRB']\n",
    "transition = np.zeros((len(states),len(states)))\n",
    "emission = np.zeros((len(word_corpus),len(states)))\n",
    "initial = np.zeros((len(states),1))\n",
    "transition = normalize(np.apply_along_axis(generate_random, 0,transition), norm = 'l1')\n",
    "emission = normalize(np.apply_along_axis(generate_random, 1,emission), norm = 'l1')\n",
    "initial = normalize(np.apply_along_axis(generate_random, 0,initial), norm = 'l1')\n",
    "# transition = normalize(np.random.random((len(states),len(states))), norm='l1') * 100\n",
    "# emission = normalize(np.random.random((len(word_corpus),len(states))), norm = 'l1') * 100\n",
    "# initial = normalize(np.random.random((len(states),1)), norm = 'l1')"
   ]
  },
  {
   "cell_type": "code",
   "execution_count": 26,
   "metadata": {},
   "outputs": [
    {
     "name": "stdout",
     "output_type": "stream",
     "text": [
      "(35, 25513)\n"
     ]
    }
   ],
   "source": [
    "print(emission.T.shape)"
   ]
  },
  {
   "cell_type": "code",
   "execution_count": 5,
   "metadata": {
    "collapsed": true
   },
   "outputs": [],
   "source": [
    "transitionc = {}\n",
    "for i,condition in enumerate(states):\n",
    "    dic = {}\n",
    "    for j,state in enumerate(states):\n",
    "        dic[state] = transition[i][j]\n",
    "    transitionc[condition] = ( nltk.probability.DictionaryProbDist(dic))\n",
    "transitionc = nltk.probability.DictionaryConditionalProbDist(transitionc);\n",
    "\n",
    "emissionc = {}\n",
    "for i,condition in enumerate(list(word_corpus)):\n",
    "    dic = {}\n",
    "    for j,state in enumerate(states):\n",
    "        dic[state] = emission[i][j]\n",
    "    emissionc[condition] = ( nltk.probability.DictionaryProbDist(dic))\n",
    "emissionc = nltk.probability.DictionaryConditionalProbDist(transitionc);\n",
    "\n",
    "initialc = {}\n",
    "for i,condition in enumerate(states):\n",
    "    initialc[condition] = initial[i]\n",
    "initialc = nltk.probability.DictionaryProbDist(initialc)"
   ]
  },
  {
   "cell_type": "code",
   "execution_count": 6,
   "metadata": {
    "collapsed": true
   },
   "outputs": [],
   "source": [
    "model = nltk.tag.hmm.HiddenMarkovModelTagger(list(word_corpus),states,transitionc,emissionc,initialc)"
   ]
  },
  {
   "cell_type": "code",
   "execution_count": 7,
   "metadata": {
    "collapsed": true
   },
   "outputs": [],
   "source": [
    "# a = nltk.pos_tag(nltk.corpus.genesis.sents())\n",
    "obs_nltk = []\n",
    "obs_blake = []\n",
    "obs_vidur = []\n",
    "lens = []\n",
    "test = []\n",
    "for sentence in gen.sents():\n",
    "    sen = []\n",
    "    sent = []\n",
    "    for word in sentence:\n",
    "        if word.isalpha():\n",
    "#             test.append(word)\n",
    "            sen.append((word,pos_tag([word])[0][1]))\n",
    "            obs_blake.append(word_corpus[word])\n",
    "            sent.append(word_corpus[word])\n",
    "    lens.append(len(sen))\n",
    "    obs_nltk.append(sen)\n",
    "    obs_vidur.append(sent)"
   ]
  },
  {
   "cell_type": "code",
   "execution_count": null,
   "metadata": {
    "collapsed": true
   },
   "outputs": [],
   "source": [
    "print(len(set(test)),len(set(list(word_corpus))))\n",
    "print((set(test) - set(word_corpus)))"
   ]
  },
  {
   "cell_type": "code",
   "execution_count": 8,
   "metadata": {},
   "outputs": [
    {
     "name": "stdout",
     "output_type": "stream",
     "text": [
      "5440\n",
      "8132\n",
      "9135\n",
      "9148\n",
      "9688\n",
      "10489\n",
      "13442\n"
     ]
    }
   ],
   "source": [
    "import time\n",
    "index = []\n",
    "obs_vidur = np.array(obs_vidur)\n",
    "for i, item in enumerate(lens):\n",
    "    if item < 1:\n",
    "        print (i)\n",
    "        index.append(i)\n",
    "lens = np.delete(lens,index)\n",
    "obs_vidur = np.delete(obs_vidur,index)"
   ]
  },
  {
   "cell_type": "code",
   "execution_count": 9,
   "metadata": {
    "collapsed": true
   },
   "outputs": [],
   "source": [
    "a = []\n",
    "for sentence in gen.sents():\n",
    "    sen = []\n",
    "    for word in sentence:\n",
    "        if word.isalpha():\n",
    "            sen.append((word,pos_tag([word])[0][1]))\n",
    "    a.append(sen)"
   ]
  },
  {
   "cell_type": "code",
   "execution_count": null,
   "metadata": {},
   "outputs": [],
   "source": [
    "trainer = nltk.tag.hmm.HiddenMarkovModelTrainer()\n",
    "start = time.clock()\n",
    "trainer.train_unsupervised(unlabeled_sequences=obs_nltk , model = model, max_iterations = 1)\n",
    "print (time.clock() - start)"
   ]
  },
  {
   "cell_type": "code",
   "execution_count": 38,
   "metadata": {},
   "outputs": [
    {
     "name": "stdout",
     "output_type": "stream",
     "text": [
      "The autoreload extension is already loaded. To reload it, use:\n",
      "  %reload_ext autoreload\n"
     ]
    },
    {
     "name": "stderr",
     "output_type": "stream",
     "text": [
      "/home/vidur/Desktop/ABT/comparison/HMM.py:183: RuntimeWarning: invalid value encountered in true_divide\n",
      "  num_a += na/prob\n",
      "/home/vidur/Desktop/ABT/comparison/HMM.py:184: RuntimeWarning: invalid value encountered in true_divide\n",
      "  num_b += nb/prob\n",
      "/home/vidur/Desktop/ABT/comparison/HMM.py:185: RuntimeWarning: invalid value encountered in true_divide\n",
      "  den_a += da/prob\n",
      "/home/vidur/Desktop/ABT/comparison/HMM.py:186: RuntimeWarning: invalid value encountered in true_divide\n",
      "  den_b += db/prob\n"
     ]
    },
    {
     "name": "stdout",
     "output_type": "stream",
     "text": [
      "20.635899771632975\n",
      "nan\n"
     ]
    },
    {
     "data": {
      "text/plain": [
       "671.937175"
      ]
     },
     "execution_count": 38,
     "metadata": {},
     "output_type": "execute_result"
    }
   ],
   "source": [
    "%load_ext autoreload\n",
    "%autoreload 2\n",
    "from HMM import *\n",
    "model2 = hmm(len(states),25513)\n",
    "model2.custom(initial,transition,emission.T)\n",
    "start = time.clock()\n",
    "for i in range(2):\n",
    "    model2.fit(obs_vidur,lens)\n",
    "time.clock() - start"
   ]
  },
  {
   "cell_type": "code",
   "execution_count": null,
   "metadata": {},
   "outputs": [],
   "source": [
    "range(5)[4]"
   ]
  }
 ],
 "metadata": {
  "kernelspec": {
   "display_name": "Python 3",
   "language": "python",
   "name": "python3"
  },
  "language_info": {
   "codemirror_mode": {
    "name": "ipython",
    "version": 3
   },
   "file_extension": ".py",
   "mimetype": "text/x-python",
   "name": "python",
   "nbconvert_exporter": "python",
   "pygments_lexer": "ipython3",
   "version": "3.6.8"
  }
 },
 "nbformat": 4,
 "nbformat_minor": 2
}
