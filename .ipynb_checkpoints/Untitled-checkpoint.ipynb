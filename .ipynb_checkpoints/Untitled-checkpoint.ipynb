{
 "cells": [
  {
   "cell_type": "code",
   "execution_count": 23,
   "metadata": {},
   "outputs": [],
   "source": [
    "import numpy as np\n",
    "a = np.load(\"Tester.npy\")\n",
    "l = np.load(\"Lengths.npy\")\n",
    "x = np.load(\"State_Names.npy\")\n",
    "y = np.load(\"Original_Data.npy\")\n",
    "names = ['l1','l2a1','l2b1','l2a2','l2b2', 'l345', 'l6a1', 'l6b1', 'l6a2', 'l6b2', 'l789', 'l10a1', 'l10b1', 'l10c1', 'OutS', 'OutF']"
   ]
  },
  {
   "cell_type": "code",
   "execution_count": 24,
   "metadata": {},
   "outputs": [
    {
     "data": {
      "text/plain": [
       "(3234529,)"
      ]
     },
     "execution_count": 24,
     "metadata": {},
     "output_type": "execute_result"
    }
   ],
   "source": [
    "a = np.squeeze(a)\n",
    "a.shape"
   ]
  },
  {
   "cell_type": "code",
   "execution_count": 25,
   "metadata": {},
   "outputs": [
    {
     "data": {
      "text/plain": [
       "(1000000, 16)"
      ]
     },
     "execution_count": 25,
     "metadata": {},
     "output_type": "execute_result"
    }
   ],
   "source": [
    "l.shape\n",
    "b = np.zeros((1000000,16))\n",
    "b.shape"
   ]
  },
  {
   "cell_type": "code",
   "execution_count": 26,
   "metadata": {},
   "outputs": [],
   "source": [
    "counter = 0\n",
    "predict = np.array((1000000,16))\n",
    "x_sorted = np.array((1000000,16))\n",
    "for i in range(l.shape[0]):\n",
    "    for j in range(l[i]):\n",
    "        b[i][j] = a[counter]\n",
    "        predict[i][j] = names[a[counter]]\n",
    "        x_sorted[i][j] = x[counter]\n",
    "        counter+=1\n",
    " "
   ]
  },
  {
   "cell_type": "code",
   "execution_count": 8,
   "metadata": {},
   "outputs": [],
   "source": [
    "\n"
   ]
  },
  {
   "cell_type": "code",
   "execution_count": 28,
   "metadata": {},
   "outputs": [
    {
     "data": {
      "text/plain": [
       "chararray([['l', 'l', 'l', ..., '', '', ''],\n",
       "           ['l', 'l', 'l', ..., '', '', ''],\n",
       "           ['l', 'l', 'l', ..., '', '', ''],\n",
       "           ...,\n",
       "           ['l', 'O', '', ..., '', '', ''],\n",
       "           ['l', 'l', 'l', ..., '', '', ''],\n",
       "           ['l', 'O', '', ..., '', '', '']], dtype='|S1')"
      ]
     },
     "execution_count": 28,
     "metadata": {},
     "output_type": "execute_result"
    }
   ],
   "source": [
    "x_sorted\n"
   ]
  }
 ],
 "metadata": {
  "kernelspec": {
   "display_name": "Python 2",
   "language": "python",
   "name": "python2"
  },
  "language_info": {
   "codemirror_mode": {
    "name": "ipython",
    "version": 2
   },
   "file_extension": ".py",
   "mimetype": "text/x-python",
   "name": "python",
   "nbconvert_exporter": "python",
   "pygments_lexer": "ipython2",
   "version": "2.7.15rc1"
  }
 },
 "nbformat": 4,
 "nbformat_minor": 2
}
